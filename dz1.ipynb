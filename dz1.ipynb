{
 "cells": [
  {
   "cell_type": "markdown",
   "metadata": {},
   "source": [
    "**Задание 1**. Даны 2 строки: *long_phrase* и *short_phrase*. \n",
    "Напишите код, который проверяет действительно ли длинная фраза *long_phrase* длиннее короткой *short_phrase*. И выводит *True* или *False* в зависимости от результата сравнения."
   ]
  },
  {
   "cell_type": "code",
   "execution_count": 1,
   "metadata": {},
   "outputs": [],
   "source": [
    "long_phrase = 'Насколько проще было бы писать программы, если бы не заказчики'\n",
    "short_phrase = '640Кб должно хватить для любых задач. Билл Гейтс (по легенде)'"
   ]
  },
  {
   "cell_type": "code",
   "execution_count": 2,
   "metadata": {},
   "outputs": [
    {
     "data": {
      "text/plain": [
       "True"
      ]
     },
     "execution_count": 2,
     "metadata": {},
     "output_type": "execute_result"
    }
   ],
   "source": [
    "long_phrase > short_phrase"
   ]
  },
  {
   "cell_type": "markdown",
   "metadata": {},
   "source": [
    "**Задание 2**. Дано значение объема файла в байтах (*в мегабайте 2^20 байт*). Напишите перевод этого значения в мегабайты в формате: \"*Объем файла равен 213.68Mb*\"."
   ]
  },
  {
   "cell_type": "code",
   "execution_count": 26,
   "metadata": {},
   "outputs": [
    {
     "name": "stdout",
     "output_type": "stream",
     "text": [
      "Введите размер файла в байтах 8587875\n",
      "Объем файла равен 8.19 Mb\n"
     ]
    }
   ],
   "source": [
    "mb=2**20\n",
    "b= int(input('Введите размер файла в байтах '))\n",
    "print('Объем файла равен', round(b / mb,2), 'Mb')"
   ]
  },
  {
   "cell_type": "markdown",
   "metadata": {},
   "source": [
    "**Задание 3**. Разработать приложение для определения знака зодиака по дате рождения. Пример:\n",
    "\n",
    "Введите месяц: март\n",
    "\n",
    "Введите число: 6\n",
    "\n",
    "Вывод:\n",
    "Рыбы"
   ]
  },
  {
   "cell_type": "code",
   "execution_count": 2,
   "metadata": {},
   "outputs": [
    {
     "name": "stdout",
     "output_type": "stream",
     "text": [
      "Введите месяц Октябрь\n",
      "Введите число 4\n",
      "Введите месяц рождения с прописной буквы и день рождения в формате целого числа\n"
     ]
    }
   ],
   "source": [
    "month = input('Введите месяц ')\n",
    "number = int(input('Введите число '))\n",
    "if (month == 'март' and number > 21) or (month == 'апрель'and number < 20):\n",
    "    print('Овен')\n",
    "elif(month == 'апрель' and number > 21) or (month == 'май'and number < 21):\n",
    "    print('Телец')\n",
    "elif(month == 'май' and number > 22) or (month == 'июнь'and number < 21):\n",
    "    print('Близнец')\n",
    "elif(month == 'июнь' and number > 22) or (month == 'июль'and number < 22):\n",
    "    print('Рак')\n",
    "elif(month == 'июль' and number > 23) or (month == 'август'and number < 23):\n",
    "    print('Лев')\n",
    "elif(month == 'август' and number > 24) or (month == 'сентябрь'and number < 23):\n",
    "    print('Дева')\n",
    "elif(month == 'сентябрь' and number > 24) or (month == 'октябрь'and number < 23):\n",
    "    print('Весы')\n",
    "elif(month == 'сентябрь' and number > 24) or (month == 'октябрь'and number < 23):\n",
    "    print('Весы')\n",
    "elif(month == 'октябрь' and number > 24) or (month == 'ноябрь'and number < 22):\n",
    "    print('Скорпион')\n",
    "elif(month == 'ноябрь' and number > 23) or (month == 'декабрь'and number < 21):\n",
    "    print('Стрелец')\n",
    "elif(month == 'декабрь' and number > 22) or (month == 'январь'and number < 20):\n",
    "    print('Козерог')\n",
    "elif(month == 'январь' and number > 21) or (month == 'февраль'and number < 18):\n",
    "    print('Водолей')\n",
    "elif(month == 'февраль' and number > 19) or (month == 'март'and number < 20):\n",
    "    print('Рыбы')\n",
    "else:\n",
    "    print('Введите месяц рождения с прописной буквы и день рождения в формате целого числа')"
   ]
  },
  {
   "cell_type": "markdown",
   "metadata": {},
   "source": [
    "**Задание 4**. Нужно разработать приложение для финансового планирования.\n",
    "Приложение учитывает сколько уходит на ипотеку, \"на жизнь\" и сколько нужно отложить на пенсию.\n",
    "Пользователь вводит:\n",
    "- заработанную плату в месяц.\n",
    "- сколько процентов от ЗП уходит на ипотеку.\n",
    "- сколько процентов от ЗП уходит \"на жизнь\".\n",
    "- сколько раз приходит премия в год.\n",
    "\n",
    "Остальная часть заработанной платы откладывается на пенсию.\n",
    "\n",
    "Также пользователю приходит премия в размере зарплаты, от которой половина уходит на отпуск, а вторая половина откладывается.\n",
    "\n",
    "Программа должна учитывать сколько премий было в год.\n",
    "\n",
    "Нужно вывести сколько денег тратит пользователь на ипотеку и сколько он накопит за год.\n",
    "\n",
    "Пример:\n",
    "\n",
    "Введите заработанную плату в месяц: 100000\n",
    "\n",
    "Введите сколько процентов уходит на ипотеку: 30\n",
    "\n",
    "Введите сколько процентов уходит на жизнь: 50\n",
    "\n",
    "Введите количество премий за год: 2\n",
    "\n",
    "Вывод:\n",
    "На ипотеку было потрачено: 360000 рублей\n",
    "Было накоплено: 340000 рублей"
   ]
  },
  {
   "cell_type": "code",
   "execution_count": 1,
   "metadata": {},
   "outputs": [
    {
     "name": "stdout",
     "output_type": "stream",
     "text": [
      "Введите заработанную плату в месяц 20000\n",
      "Введите сколько процентов уходит на ипотеку 40\n",
      "Введите сколько процентов уходит на жизнь 50\n",
      "Введите количество премий за год 0\n",
      "На ипотеку было потрачено: 96000.0 рублей\n",
      "Было накоплено: 24000.0 рублей\n"
     ]
    }
   ],
   "source": [
    "zp_month = int(input('Введите заработанную плату в месяц '))\n",
    "pt_ip = int(input('Введите сколько процентов уходит на ипотеку '))\n",
    "pt_live = int(input('Введите сколько процентов уходит на жизнь '))\n",
    "prize = int(input('Введите количество премий за год '))\n",
    "print('На ипотеку было потрачено:', zp_month*(pt_ip/100)*12, 'рублей')\n",
    "print('Было накоплено:', zp_month*12-(zp_month*(pt_ip/100)*12)-(zp_month*(pt_live/100)*12)+(prize*(zp_month/2)), 'рублей' )"
   ]
  },
  {
   "cell_type": "code",
   "execution_count": null,
   "metadata": {},
   "outputs": [],
   "source": []
  }
 ],
 "metadata": {
  "kernelspec": {
   "display_name": "Python 3",
   "language": "python",
   "name": "python3"
  },
  "language_info": {
   "codemirror_mode": {
    "name": "ipython",
    "version": 3
   },
   "file_extension": ".py",
   "mimetype": "text/x-python",
   "name": "python",
   "nbconvert_exporter": "python",
   "pygments_lexer": "ipython3",
   "version": "3.7.6"
  }
 },
 "nbformat": 4,
 "nbformat_minor": 2
}
