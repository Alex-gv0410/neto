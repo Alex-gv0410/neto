{
 "cells": [
  {
   "cell_type": "markdown",
   "metadata": {},
   "source": [
    "Вы работаете секретарем и вам постоянно приходят различные документы. Вы должны быть очень внимательны, чтобы не потерять ни один документ. Каталог документов хранится в следующем виде:"
   ]
  },
  {
   "cell_type": "code",
   "execution_count": 1,
   "metadata": {},
   "outputs": [],
   "source": [
    "documents = [\n",
    "    {'type': 'passport', 'number': '2207 876234', 'name': 'Василий Гупкин'},\n",
    "    {'type': 'invoice', 'number': '11-2', 'name': 'Геннадий Покемонов'},\n",
    "    {'type': 'insurance', 'number': '10006', 'name': 'Аристарх Павлов'}\n",
    "]"
   ]
  },
  {
   "cell_type": "markdown",
   "metadata": {},
   "source": [
    "Перечень полок, на которых находятся документы хранится в следующем виде:"
   ]
  },
  {
   "cell_type": "code",
   "execution_count": 2,
   "metadata": {},
   "outputs": [],
   "source": [
    "directories = {\n",
    "    '1': ['2207 876234', '11-2'],\n",
    "    '2': ['10006'],\n",
    "    '3': []\n",
    "}"
   ]
  },
  {
   "cell_type": "code",
   "execution_count": 3,
   "metadata": {},
   "outputs": [],
   "source": [
    "def doc_people():\n",
    "    doc_input=input('Введите номер документа')\n",
    "    for doc in documents:\n",
    "        if doc_input==doc['number']:\n",
    "            return doc['name']\n",
    "     \n",
    "   "
   ]
  },
  {
   "cell_type": "code",
   "execution_count": 4,
   "metadata": {},
   "outputs": [],
   "source": [
    "def p_people():\n",
    "    p_input=input('Введите номер документа ')\n",
    "    for key,value in directories.items():\n",
    "        for v in value:\n",
    "            if v==p_input:\n",
    "                return'полка №',key\n",
    "    return'документа не существует'"
   ]
  },
  {
   "cell_type": "code",
   "execution_count": 5,
   "metadata": {},
   "outputs": [],
   "source": [
    "def list_people():\n",
    "    for spisok in documents:\n",
    "        for key, value in spisok.items():\n",
    "            print(value, end=\" \")\n",
    "        return \"\""
   ]
  },
  {
   "cell_type": "code",
   "execution_count": 6,
   "metadata": {},
   "outputs": [],
   "source": [
    "def polka_add():\n",
    "    add_input=input('Введите номер добавляемой полки ')\n",
    "    if add_input in directories:\n",
    "        print('Такая полка уже есть')\n",
    "    else:\n",
    "        print('Добавляю новую полку')\n",
    "        directories[add_input] = []\n",
    "    #print(directories)\n",
    "            \n"
   ]
  },
  {
   "cell_type": "code",
   "execution_count": 7,
   "metadata": {},
   "outputs": [],
   "source": [
    "def del_polka_value():\n",
    "    del_input=input('Введите номер удаляемого документа')\n",
    "    for doc in documents:\n",
    "        if del_input==doc['number']:\n",
    "            documents.remove(doc)\n",
    "            #print(documents)\n",
    "    for value in directories.values():\n",
    "        for v in value:\n",
    "            if v==del_input:\n",
    "                value.remove(v)\n",
    "                #print(directories) \n",
    "    return \"\""
   ]
  },
  {
   "cell_type": "code",
   "execution_count": 8,
   "metadata": {},
   "outputs": [],
   "source": [
    "def move_polka():\n",
    "    doc_input=input('Введите номер документа ')\n",
    "    polka_input=input('Введите целевую полку ')\n",
    "    doc=False \n",
    "    if polka_input not in directories:\n",
    "        print('Полка не существует')\n",
    "    elif polka_input in directories:\n",
    "        for value in directories.values():\n",
    "            for v in value:\n",
    "                if v==doc_input:\n",
    "                    value.remove(v)\n",
    "                    doc=True\n",
    "    if polka_input in directories and doc==True:\n",
    "        directories[polka_input].append(doc_input)\n",
    "    else:\n",
    "        doc==False\n",
    "        print('Документ не найден')\n",
    "        \n",
    "    \n",
    "    #print(directories)\n",
    "            \n",
    "    return \"\""
   ]
  },
  {
   "cell_type": "code",
   "execution_count": 9,
   "metadata": {},
   "outputs": [],
   "source": [
    "def add_document():\n",
    "    doc_input=input('Введите номер документа ')\n",
    "    type_input=input('Введите тип документа ')\n",
    "    name_input=input('Введите имя владельца ')\n",
    "    polka_input=input('Введите целевую полку ')\n",
    "    \n",
    "   \n",
    "    if polka_input in directories:\n",
    "        documents.append({'type':type_input,'number':doc_input,'name':name_input})\n",
    "        directories[polka_input].append(doc_input)\n",
    "            \n",
    "        \n",
    "    else:\n",
    "        print('Такой полки не существует')\n",
    "        \n",
    "    print(directories)\n",
    "    print(documents)\n",
    "    \n",
    "        \n",
    "    \n",
    "    \n",
    "    return \"\""
   ]
  },
  {
   "cell_type": "code",
   "execution_count": 10,
   "metadata": {},
   "outputs": [],
   "source": [
    "def main():\n",
    "    while True:\n",
    "        user_input = input('Введите команду ')\n",
    "        if user_input == 'p' or user_input == 'people' :\n",
    "            print(doc_people())\n",
    "        elif user_input == 's' or user_input == 'shelf':\n",
    "            print(p_people())\n",
    "        elif user_input == 'l' or user_input == 'list':\n",
    "            list_people()\n",
    "        elif user_input == 'as' or user_input == 'add shelf':\n",
    "            polka_add()\n",
    "        elif user_input == 'd' or user_input == 'delete':\n",
    "            print(del_polka_value())\n",
    "        elif user_input == 'm' or user_input == 'move':\n",
    "            print(move_polka())\n",
    "        elif user_input == 'a' or user_input == 'add':\n",
    "            print(add_document())\n",
    "        elif user_input == '':\n",
    "            print('ПОКА!')\n",
    "            break"
   ]
  },
  {
   "cell_type": "code",
   "execution_count": 11,
   "metadata": {},
   "outputs": [
    {
     "name": "stdout",
     "output_type": "stream",
     "text": [
      "Введите команду a\n",
      "Введите номер документа 1\n",
      "Введите тип документа 1\n",
      "Введите имя владельца 1\n",
      "Введите целевую полку 4\n",
      "Такой полки не существует\n",
      "{'1': ['2207 876234', '11-2'], '2': ['10006'], '3': []}\n",
      "[{'type': 'passport', 'number': '2207 876234', 'name': 'Василий Гупкин'}, {'type': 'invoice', 'number': '11-2', 'name': 'Геннадий Покемонов'}, {'type': 'insurance', 'number': '10006', 'name': 'Аристарх Павлов'}]\n",
      "\n",
      "Введите команду a\n",
      "Введите номер документа 1\n",
      "Введите тип документа 1\n",
      "Введите имя владельца 1\n",
      "Введите целевую полку 1\n",
      "{'1': ['2207 876234', '11-2', '1'], '2': ['10006'], '3': []}\n",
      "[{'type': 'passport', 'number': '2207 876234', 'name': 'Василий Гупкин'}, {'type': 'invoice', 'number': '11-2', 'name': 'Геннадий Покемонов'}, {'type': 'insurance', 'number': '10006', 'name': 'Аристарх Павлов'}, {'type': '1', 'number': '1', 'name': '1'}]\n",
      "\n",
      "Введите команду \n",
      "ПОКА!\n"
     ]
    }
   ],
   "source": [
    "main()"
   ]
  },
  {
   "cell_type": "markdown",
   "metadata": {},
   "source": [
    "Необходимо реализовать пользовательские команды (внимание! это не название функций, которые должны быть выразительными, а команды, которые вводит пользователь, чтобы получить необходимый результат):\n",
    "  \n",
    "- p – people – команда, которая спросит номер документа и выведет имя человека, которому он принадлежит;  \n",
    "- s – shelf – команда, которая спросит номер документа и выведет номер полки, на которой он находится  \n",
    "*Правильно обработайте ситуации, когда пользователь будет вводить несуществующий документ*.\n",
    "- l – list – команда, которая выведет список всех документов в формате   \n",
    "**passport \"2207 876234\" \"Василий Гупкин\"**  \n",
    "- as – add shelf – команда, которая спросит номер новой полки и добавит ее в перечень. *Предусмотрите случай, когда пользователь добавляет полку, которая уже существует*.\n",
    "- d – delete – команда, которая спросит номер документа и удалит его из каталога и из перечня полок. *Предусмотрите сценарий, когда пользователь вводит несуществующий документ*;  \n",
    "- m – move – команда, которая спросит номер документа и целевую полку и переместит его с текущей полки на целевую. *Корректно обработайте кейсы, когда пользователь пытается переместить несуществующий документ или переместить документ на несуществующую полку*;  \n",
    "- a – add – команда, которая добавит новый документ в каталог и в перечень полок, спросив его номер, тип, имя владельца и номер полки, на котором он будет храниться. *Корректно обработайте ситуацию, когда пользователь будет пытаться добавить документ на несуществующую полку*."
   ]
  },
  {
   "cell_type": "code",
   "execution_count": null,
   "metadata": {},
   "outputs": [],
   "source": []
  },
  {
   "cell_type": "code",
   "execution_count": null,
   "metadata": {},
   "outputs": [],
   "source": []
  }
 ],
 "metadata": {
  "kernelspec": {
   "display_name": "Python 3",
   "language": "python",
   "name": "python3"
  },
  "language_info": {
   "codemirror_mode": {
    "name": "ipython",
    "version": 3
   },
   "file_extension": ".py",
   "mimetype": "text/x-python",
   "name": "python",
   "nbconvert_exporter": "python",
   "pygments_lexer": "ipython3",
   "version": "3.7.6"
  }
 },
 "nbformat": 4,
 "nbformat_minor": 2
}
